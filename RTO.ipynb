{
  "nbformat": 4,
  "nbformat_minor": 0,
  "metadata": {
    "kernelspec": {
      "display_name": "Python 3",
      "language": "python",
      "name": "python3"
    },
    "language_info": {
      "codemirror_mode": {
        "name": "ipython",
        "version": 3
      },
      "file_extension": ".py",
      "mimetype": "text/x-python",
      "name": "python",
      "nbconvert_exporter": "python",
      "pygments_lexer": "ipython3",
      "version": "3.8.2"
    },
    "colab": {
      "name": "RTO.ipynb",
      "provenance": [],
      "include_colab_link": true
    }
  },
  "cells": [
    {
      "cell_type": "markdown",
      "metadata": {
        "id": "view-in-github",
        "colab_type": "text"
      },
      "source": [
        "<a href=\"https://colab.research.google.com/github/akshitgupta/Predict_shipment_return_to_origin/blob/main/RTO.ipynb\" target=\"_parent\"><img src=\"https://colab.research.google.com/assets/colab-badge.svg\" alt=\"Open In Colab\"/></a>"
      ]
    },
    {
      "cell_type": "code",
      "metadata": {
        "id": "KlZJuDFr9Zvo"
      },
      "source": [
        "# Import pandas\n",
        "import pandas as pd"
      ],
      "execution_count": null,
      "outputs": []
    },
    {
      "cell_type": "code",
      "metadata": {
        "id": "pPAvwROa9Zvr",
        "outputId": "69769b33-4b77-43e6-aa54-eec5c365dd51"
      },
      "source": [
        "# Load csv into dataframe\n",
        "df=pd.read_csv('training_data.csv',sep='|')\n",
        "df.head(5)"
      ],
      "execution_count": null,
      "outputs": [
        {
          "name": "stderr",
          "output_type": "stream",
          "text": [
            "c:\\python38\\lib\\site-packages\\IPython\\core\\interactiveshell.py:3145: DtypeWarning: Columns (4,12,16) have mixed types.Specify dtype option on import or set low_memory=False.\n",
            "  has_raised = await self.run_ast_nodes(code_ast.body, cell_name,\n"
          ]
        },
        {
          "data": {
            "text/html": [
              "<div>\n",
              "<style scoped>\n",
              "    .dataframe tbody tr th:only-of-type {\n",
              "        vertical-align: middle;\n",
              "    }\n",
              "\n",
              "    .dataframe tbody tr th {\n",
              "        vertical-align: top;\n",
              "    }\n",
              "\n",
              "    .dataframe thead th {\n",
              "        text-align: right;\n",
              "    }\n",
              "</style>\n",
              "<table border=\"1\" class=\"dataframe\">\n",
              "  <thead>\n",
              "    <tr style=\"text-align: right;\">\n",
              "      <th></th>\n",
              "      <th>order_id</th>\n",
              "      <th>shipment_id</th>\n",
              "      <th>awb_code</th>\n",
              "      <th>shipment_status</th>\n",
              "      <th>order_source</th>\n",
              "      <th>company_id</th>\n",
              "      <th>channel_base_code</th>\n",
              "      <th>shipment_total</th>\n",
              "      <th>assigned_date_time</th>\n",
              "      <th>awb_shipped_date</th>\n",
              "      <th>awb_delivered_date</th>\n",
              "      <th>awb_rto_initiated_date</th>\n",
              "      <th>awb_rto_delivered_date</th>\n",
              "      <th>gender</th>\n",
              "      <th>cod</th>\n",
              "      <th>etd</th>\n",
              "      <th>delivery_postcode</th>\n",
              "      <th>delivery_city</th>\n",
              "      <th>delivery_state</th>\n",
              "      <th>is_rto</th>\n",
              "    </tr>\n",
              "  </thead>\n",
              "  <tbody>\n",
              "    <tr>\n",
              "      <th>0</th>\n",
              "      <td>92881330</td>\n",
              "      <td>92494735</td>\n",
              "      <td>4526711234262</td>\n",
              "      <td>AWB Assigned</td>\n",
              "      <td>NaN</td>\n",
              "      <td>375871</td>\n",
              "      <td>CS</td>\n",
              "      <td>184.9900</td>\n",
              "      <td>2021-03-03 22:02:01</td>\n",
              "      <td>NaN</td>\n",
              "      <td>NaN</td>\n",
              "      <td>NaN</td>\n",
              "      <td>NaN</td>\n",
              "      <td>0</td>\n",
              "      <td>0</td>\n",
              "      <td>2021-03-09 06:02:01</td>\n",
              "      <td>206122</td>\n",
              "      <td>auraiya</td>\n",
              "      <td>uttar pradesh</td>\n",
              "      <td>0</td>\n",
              "    </tr>\n",
              "    <tr>\n",
              "      <th>1</th>\n",
              "      <td>93926086</td>\n",
              "      <td>93538797</td>\n",
              "      <td>SD93538797-kaN</td>\n",
              "      <td>Delivered</td>\n",
              "      <td>NaN</td>\n",
              "      <td>375976</td>\n",
              "      <td>CS</td>\n",
              "      <td>659.9000</td>\n",
              "      <td>2021-03-09 12:05:55</td>\n",
              "      <td>2021-03-09 11:50:00</td>\n",
              "      <td>2021-03-09 15:25:00</td>\n",
              "      <td>NaN</td>\n",
              "      <td>NaN</td>\n",
              "      <td>1</td>\n",
              "      <td>1</td>\n",
              "      <td>NaN</td>\n",
              "      <td>400003</td>\n",
              "      <td>mumbai</td>\n",
              "      <td>maharashtra</td>\n",
              "      <td>0</td>\n",
              "    </tr>\n",
              "    <tr>\n",
              "      <th>2</th>\n",
              "      <td>94281448</td>\n",
              "      <td>93893942</td>\n",
              "      <td>31668474946</td>\n",
              "      <td>Delivered</td>\n",
              "      <td>NaN</td>\n",
              "      <td>25267</td>\n",
              "      <td>CS</td>\n",
              "      <td>2.4251</td>\n",
              "      <td>2021-03-10 15:28:33</td>\n",
              "      <td>2021-03-11 22:16:00</td>\n",
              "      <td>2021-03-24 09:33:00</td>\n",
              "      <td>NaN</td>\n",
              "      <td>NaN</td>\n",
              "      <td>1</td>\n",
              "      <td>0</td>\n",
              "      <td>NaN</td>\n",
              "      <td>30035</td>\n",
              "      <td>NaN</td>\n",
              "      <td>NaN</td>\n",
              "      <td>0</td>\n",
              "    </tr>\n",
              "    <tr>\n",
              "      <th>3</th>\n",
              "      <td>92833289</td>\n",
              "      <td>92446735</td>\n",
              "      <td>INADS924467359</td>\n",
              "      <td>Delivered</td>\n",
              "      <td>NaN</td>\n",
              "      <td>81562</td>\n",
              "      <td>CS</td>\n",
              "      <td>17.5000</td>\n",
              "      <td>2021-03-03 17:20:43</td>\n",
              "      <td>2021-03-06 13:59:00</td>\n",
              "      <td>2021-03-20 10:53:00</td>\n",
              "      <td>NaN</td>\n",
              "      <td>NaN</td>\n",
              "      <td>2</td>\n",
              "      <td>0</td>\n",
              "      <td>NaN</td>\n",
              "      <td>39440</td>\n",
              "      <td>NaN</td>\n",
              "      <td>NaN</td>\n",
              "      <td>0</td>\n",
              "    </tr>\n",
              "    <tr>\n",
              "      <th>4</th>\n",
              "      <td>94364215</td>\n",
              "      <td>93976669</td>\n",
              "      <td>INADS939766698</td>\n",
              "      <td>Delivered</td>\n",
              "      <td>NaN</td>\n",
              "      <td>81562</td>\n",
              "      <td>CS</td>\n",
              "      <td>15.0000</td>\n",
              "      <td>2021-03-10 23:13:01</td>\n",
              "      <td>2021-03-13 11:58:00</td>\n",
              "      <td>2021-03-25 08:38:00</td>\n",
              "      <td>NaN</td>\n",
              "      <td>NaN</td>\n",
              "      <td>1</td>\n",
              "      <td>0</td>\n",
              "      <td>NaN</td>\n",
              "      <td>11235</td>\n",
              "      <td>NaN</td>\n",
              "      <td>NaN</td>\n",
              "      <td>0</td>\n",
              "    </tr>\n",
              "  </tbody>\n",
              "</table>\n",
              "</div>"
            ],
            "text/plain": [
              "   order_id  shipment_id        awb_code shipment_status order_source  \\\n",
              "0  92881330     92494735   4526711234262    AWB Assigned          NaN   \n",
              "1  93926086     93538797  SD93538797-kaN       Delivered          NaN   \n",
              "2  94281448     93893942     31668474946       Delivered          NaN   \n",
              "3  92833289     92446735  INADS924467359       Delivered          NaN   \n",
              "4  94364215     93976669  INADS939766698       Delivered          NaN   \n",
              "\n",
              "   company_id channel_base_code  shipment_total   assigned_date_time  \\\n",
              "0      375871                CS        184.9900  2021-03-03 22:02:01   \n",
              "1      375976                CS        659.9000  2021-03-09 12:05:55   \n",
              "2       25267                CS          2.4251  2021-03-10 15:28:33   \n",
              "3       81562                CS         17.5000  2021-03-03 17:20:43   \n",
              "4       81562                CS         15.0000  2021-03-10 23:13:01   \n",
              "\n",
              "      awb_shipped_date   awb_delivered_date awb_rto_initiated_date  \\\n",
              "0                  NaN                  NaN                    NaN   \n",
              "1  2021-03-09 11:50:00  2021-03-09 15:25:00                    NaN   \n",
              "2  2021-03-11 22:16:00  2021-03-24 09:33:00                    NaN   \n",
              "3  2021-03-06 13:59:00  2021-03-20 10:53:00                    NaN   \n",
              "4  2021-03-13 11:58:00  2021-03-25 08:38:00                    NaN   \n",
              "\n",
              "  awb_rto_delivered_date  gender  cod                  etd delivery_postcode  \\\n",
              "0                    NaN       0    0  2021-03-09 06:02:01            206122   \n",
              "1                    NaN       1    1                  NaN            400003   \n",
              "2                    NaN       1    0                  NaN             30035   \n",
              "3                    NaN       2    0                  NaN             39440   \n",
              "4                    NaN       1    0                  NaN             11235   \n",
              "\n",
              "  delivery_city delivery_state  is_rto  \n",
              "0       auraiya  uttar pradesh       0  \n",
              "1        mumbai    maharashtra       0  \n",
              "2           NaN            NaN       0  \n",
              "3           NaN            NaN       0  \n",
              "4           NaN            NaN       0  "
            ]
          },
          "execution_count": 254,
          "metadata": {},
          "output_type": "execute_result"
        }
      ]
    },
    {
      "cell_type": "code",
      "metadata": {
        "id": "Aqy16bfP9Zvs",
        "outputId": "7b48e410-ff02-4510-b8af-9af22fb3b5d4"
      },
      "source": [
        "df.shape\n"
      ],
      "execution_count": null,
      "outputs": [
        {
          "data": {
            "text/plain": [
              "(2048321, 20)"
            ]
          },
          "execution_count": 255,
          "metadata": {},
          "output_type": "execute_result"
        }
      ]
    },
    {
      "cell_type": "code",
      "metadata": {
        "id": "juCEd_8F9Zvt",
        "outputId": "3d2c36db-09d1-4189-f869-01e5e6619c7a"
      },
      "source": [
        "df2=df[['shipment_status','order_id','channel_base_code','shipment_total','assigned_date_time','awb_shipped_date','awb_delivered_date','gender','cod','etd','delivery_postcode','delivery_city','delivery_state','is_rto']]\n",
        "df2.head(3)"
      ],
      "execution_count": null,
      "outputs": [
        {
          "data": {
            "text/html": [
              "<div>\n",
              "<style scoped>\n",
              "    .dataframe tbody tr th:only-of-type {\n",
              "        vertical-align: middle;\n",
              "    }\n",
              "\n",
              "    .dataframe tbody tr th {\n",
              "        vertical-align: top;\n",
              "    }\n",
              "\n",
              "    .dataframe thead th {\n",
              "        text-align: right;\n",
              "    }\n",
              "</style>\n",
              "<table border=\"1\" class=\"dataframe\">\n",
              "  <thead>\n",
              "    <tr style=\"text-align: right;\">\n",
              "      <th></th>\n",
              "      <th>shipment_status</th>\n",
              "      <th>order_id</th>\n",
              "      <th>channel_base_code</th>\n",
              "      <th>shipment_total</th>\n",
              "      <th>assigned_date_time</th>\n",
              "      <th>awb_shipped_date</th>\n",
              "      <th>awb_delivered_date</th>\n",
              "      <th>gender</th>\n",
              "      <th>cod</th>\n",
              "      <th>etd</th>\n",
              "      <th>delivery_postcode</th>\n",
              "      <th>delivery_city</th>\n",
              "      <th>delivery_state</th>\n",
              "      <th>is_rto</th>\n",
              "    </tr>\n",
              "  </thead>\n",
              "  <tbody>\n",
              "    <tr>\n",
              "      <th>0</th>\n",
              "      <td>AWB Assigned</td>\n",
              "      <td>92881330</td>\n",
              "      <td>CS</td>\n",
              "      <td>184.9900</td>\n",
              "      <td>2021-03-03 22:02:01</td>\n",
              "      <td>NaN</td>\n",
              "      <td>NaN</td>\n",
              "      <td>0</td>\n",
              "      <td>0</td>\n",
              "      <td>2021-03-09 06:02:01</td>\n",
              "      <td>206122</td>\n",
              "      <td>auraiya</td>\n",
              "      <td>uttar pradesh</td>\n",
              "      <td>0</td>\n",
              "    </tr>\n",
              "    <tr>\n",
              "      <th>1</th>\n",
              "      <td>Delivered</td>\n",
              "      <td>93926086</td>\n",
              "      <td>CS</td>\n",
              "      <td>659.9000</td>\n",
              "      <td>2021-03-09 12:05:55</td>\n",
              "      <td>2021-03-09 11:50:00</td>\n",
              "      <td>2021-03-09 15:25:00</td>\n",
              "      <td>1</td>\n",
              "      <td>1</td>\n",
              "      <td>NaN</td>\n",
              "      <td>400003</td>\n",
              "      <td>mumbai</td>\n",
              "      <td>maharashtra</td>\n",
              "      <td>0</td>\n",
              "    </tr>\n",
              "    <tr>\n",
              "      <th>2</th>\n",
              "      <td>Delivered</td>\n",
              "      <td>94281448</td>\n",
              "      <td>CS</td>\n",
              "      <td>2.4251</td>\n",
              "      <td>2021-03-10 15:28:33</td>\n",
              "      <td>2021-03-11 22:16:00</td>\n",
              "      <td>2021-03-24 09:33:00</td>\n",
              "      <td>1</td>\n",
              "      <td>0</td>\n",
              "      <td>NaN</td>\n",
              "      <td>30035</td>\n",
              "      <td>NaN</td>\n",
              "      <td>NaN</td>\n",
              "      <td>0</td>\n",
              "    </tr>\n",
              "  </tbody>\n",
              "</table>\n",
              "</div>"
            ],
            "text/plain": [
              "  shipment_status  order_id channel_base_code  shipment_total  \\\n",
              "0    AWB Assigned  92881330                CS        184.9900   \n",
              "1       Delivered  93926086                CS        659.9000   \n",
              "2       Delivered  94281448                CS          2.4251   \n",
              "\n",
              "    assigned_date_time     awb_shipped_date   awb_delivered_date  gender  cod  \\\n",
              "0  2021-03-03 22:02:01                  NaN                  NaN       0    0   \n",
              "1  2021-03-09 12:05:55  2021-03-09 11:50:00  2021-03-09 15:25:00       1    1   \n",
              "2  2021-03-10 15:28:33  2021-03-11 22:16:00  2021-03-24 09:33:00       1    0   \n",
              "\n",
              "                   etd delivery_postcode delivery_city delivery_state  is_rto  \n",
              "0  2021-03-09 06:02:01            206122       auraiya  uttar pradesh       0  \n",
              "1                  NaN            400003        mumbai    maharashtra       0  \n",
              "2                  NaN             30035           NaN            NaN       0  "
            ]
          },
          "execution_count": 258,
          "metadata": {},
          "output_type": "execute_result"
        }
      ]
    },
    {
      "cell_type": "code",
      "metadata": {
        "id": "avcLjTTF9Zvt",
        "outputId": "303a7765-19f8-4943-c6ce-0b9d6e1cbb94"
      },
      "source": [
        "#Checking number of unique entries in each column\n",
        "for i in df2.columns:\n",
        "  print(i,' - ',len(df[i].unique()))"
      ],
      "execution_count": null,
      "outputs": [
        {
          "name": "stdout",
          "output_type": "stream",
          "text": [
            "shipment_status  -  22\n",
            "order_id  -  2048321\n",
            "channel_base_code  -  15\n",
            "shipment_total  -  67090\n",
            "assigned_date_time  -  682649\n",
            "awb_shipped_date  -  146860\n",
            "awb_delivered_date  -  460733\n",
            "gender  -  3\n",
            "cod  -  2\n",
            "etd  -  809585\n",
            "delivery_postcode  -  34648\n",
            "delivery_city  -  2606\n",
            "delivery_state  -  42\n",
            "is_rto  -  2\n"
          ]
        }
      ]
    },
    {
      "cell_type": "code",
      "metadata": {
        "id": "raLKu8YF9Zvu",
        "outputId": "bebba813-b027-4c0e-8d91-41490520134d"
      },
      "source": [
        "# Checking Correlation between features\n",
        "import seaborn as sns\n",
        "\n",
        "Var_Corr = df2.corr()\n",
        "# plot the heatmap and annotation on it\n",
        "sns.heatmap(Var_Corr, xticklabels=Var_Corr.columns, yticklabels=Var_Corr.columns, annot=True)"
      ],
      "execution_count": null,
      "outputs": [
        {
          "data": {
            "text/plain": [
              "<AxesSubplot:>"
            ]
          },
          "execution_count": 175,
          "metadata": {},
          "output_type": "execute_result"
        },
        {
          "data": {
            "image/png": "[encoded data removed]",
            "text/plain": [
              "<Figure size 432x288 with 2 Axes>"
            ]
          },
          "metadata": {
            "needs_background": "light"
          },
          "output_type": "display_data"
        }
      ]
    },
    {
      "cell_type": "code",
      "metadata": {
        "id": "sPlJpDAa9Zvu",
        "outputId": "2f8eed25-de76-45bc-d3ba-53de1cd9fc62"
      },
      "source": [
        "# Data Types\n",
        "df2.dtypes"
      ],
      "execution_count": null,
      "outputs": [
        {
          "data": {
            "text/plain": [
              "shipment_status        object\n",
              "order_id                int64\n",
              "channel_base_code      object\n",
              "shipment_total        float64\n",
              "assigned_date_time     object\n",
              "awb_shipped_date       object\n",
              "awb_delivered_date     object\n",
              "gender                  int64\n",
              "cod                     int64\n",
              "etd                    object\n",
              "delivery_postcode      object\n",
              "delivery_city          object\n",
              "delivery_state         object\n",
              "is_rto                  int64\n",
              "dtype: object"
            ]
          },
          "execution_count": 176,
          "metadata": {},
          "output_type": "execute_result"
        }
      ]
    },
    {
      "cell_type": "code",
      "metadata": {
        "id": "MTcUXSzp9Zvv",
        "outputId": "9f9ee980-1126-4d46-e450-35bbcdd1d7d5"
      },
      "source": [
        "# Droping rows with nan values \n",
        "\n",
        "df3 = df2[df2.is_rto.notna()] # Negligiblee\n",
        "df3 = df3[df3.delivery_postcode.notna()]# Negligible\n",
        "df3 = df3[df3.delivery_city.notna()]# Negligible\n",
        "#df3 = df3[df2.delivery_state.notna()]# Removed as same as city\n",
        "\n",
        "\n",
        "df3.shape"
      ],
      "execution_count": null,
      "outputs": [
        {
          "data": {
            "text/plain": [
              "(2048036, 14)"
            ]
          },
          "execution_count": 177,
          "metadata": {},
          "output_type": "execute_result"
        }
      ]
    },
    {
      "cell_type": "code",
      "metadata": {
        "id": "IVYNEkyu9Zvv",
        "outputId": "0407121f-0543-4915-9069-cf25bb86b25a"
      },
      "source": [
        "df3.isnull().sum(axis = 0)"
      ],
      "execution_count": null,
      "outputs": [
        {
          "data": {
            "text/plain": [
              "shipment_status            0\n",
              "order_id                   0\n",
              "channel_base_code          0\n",
              "shipment_total             0\n",
              "assigned_date_time         0\n",
              "awb_shipped_date       64351\n",
              "awb_delivered_date    391065\n",
              "gender                     0\n",
              "cod                        0\n",
              "etd                    19431\n",
              "delivery_postcode          0\n",
              "delivery_city              0\n",
              "delivery_state             0\n",
              "is_rto                     0\n",
              "dtype: int64"
            ]
          },
          "execution_count": 178,
          "metadata": {},
          "output_type": "execute_result"
        }
      ]
    },
    {
      "cell_type": "code",
      "metadata": {
        "id": "_dLqqU5y9Zvw",
        "outputId": "84b3c6f7-8288-47de-8466-d975c1dbe982"
      },
      "source": [
        "df4 = df3[df3.etd.notna()]\n",
        "df4 = df4[df4.awb_shipped_date.notna()]\n",
        "df4 = df4[df4.awb_delivered_date.notna()]\n",
        "df4 = df4[df4.etd.notna()]\n",
        "df4.isnull().sum(axis = 0)"
      ],
      "execution_count": null,
      "outputs": [
        {
          "data": {
            "text/plain": [
              "shipment_status       0\n",
              "order_id              0\n",
              "channel_base_code     0\n",
              "shipment_total        0\n",
              "assigned_date_time    0\n",
              "awb_shipped_date      0\n",
              "awb_delivered_date    0\n",
              "gender                0\n",
              "cod                   0\n",
              "etd                   0\n",
              "delivery_postcode     0\n",
              "delivery_city         0\n",
              "delivery_state        0\n",
              "is_rto                0\n",
              "dtype: int64"
            ]
          },
          "execution_count": 179,
          "metadata": {},
          "output_type": "execute_result"
        }
      ]
    },
    {
      "cell_type": "code",
      "metadata": {
        "id": "rBNeEfpY9Zvx",
        "outputId": "7b653fbf-cca4-49c9-b11e-848e10998d6f"
      },
      "source": [
        "for i in df4.columns:\n",
        "  print(i,' - ',len(df[i].unique()))"
      ],
      "execution_count": null,
      "outputs": [
        {
          "name": "stdout",
          "output_type": "stream",
          "text": [
            "shipment_status  -  22\n",
            "order_id  -  2048321\n",
            "channel_base_code  -  15\n",
            "shipment_total  -  67090\n",
            "assigned_date_time  -  682649\n",
            "awb_shipped_date  -  146860\n",
            "awb_delivered_date  -  460733\n",
            "gender  -  3\n",
            "cod  -  2\n",
            "etd  -  809585\n",
            "delivery_postcode  -  34648\n",
            "delivery_city  -  2606\n",
            "delivery_state  -  42\n",
            "is_rto  -  2\n"
          ]
        }
      ]
    },
    {
      "cell_type": "code",
      "metadata": {
        "id": "uwVlxJ9i9Zvx",
        "outputId": "29dc0828-6842-4d69-a6af-78f1f69e5bad"
      },
      "source": [
        "df_new=df3[['shipment_status','order_id','channel_base_code','shipment_total','gender','cod','delivery_city','is_rto']]\n",
        "df_new.reset_index(drop=True,inplace=True)\n",
        "df_new.head(10)"
      ],
      "execution_count": null,
      "outputs": [
        {
          "data": {
            "text/html": [
              "<div>\n",
              "<style scoped>\n",
              "    .dataframe tbody tr th:only-of-type {\n",
              "        vertical-align: middle;\n",
              "    }\n",
              "\n",
              "    .dataframe tbody tr th {\n",
              "        vertical-align: top;\n",
              "    }\n",
              "\n",
              "    .dataframe thead th {\n",
              "        text-align: right;\n",
              "    }\n",
              "</style>\n",
              "<table border=\"1\" class=\"dataframe\">\n",
              "  <thead>\n",
              "    <tr style=\"text-align: right;\">\n",
              "      <th></th>\n",
              "      <th>shipment_status</th>\n",
              "      <th>order_id</th>\n",
              "      <th>channel_base_code</th>\n",
              "      <th>shipment_total</th>\n",
              "      <th>gender</th>\n",
              "      <th>cod</th>\n",
              "      <th>delivery_city</th>\n",
              "      <th>is_rto</th>\n",
              "    </tr>\n",
              "  </thead>\n",
              "  <tbody>\n",
              "    <tr>\n",
              "      <th>0</th>\n",
              "      <td>AWB Assigned</td>\n",
              "      <td>92881330</td>\n",
              "      <td>CS</td>\n",
              "      <td>184.990</td>\n",
              "      <td>0</td>\n",
              "      <td>0</td>\n",
              "      <td>auraiya</td>\n",
              "      <td>0</td>\n",
              "    </tr>\n",
              "    <tr>\n",
              "      <th>1</th>\n",
              "      <td>Delivered</td>\n",
              "      <td>93926086</td>\n",
              "      <td>CS</td>\n",
              "      <td>659.900</td>\n",
              "      <td>1</td>\n",
              "      <td>1</td>\n",
              "      <td>mumbai</td>\n",
              "      <td>0</td>\n",
              "    </tr>\n",
              "    <tr>\n",
              "      <th>2</th>\n",
              "      <td>Canceled</td>\n",
              "      <td>94503493</td>\n",
              "      <td>CS</td>\n",
              "      <td>5.000</td>\n",
              "      <td>1</td>\n",
              "      <td>0</td>\n",
              "      <td>hosangabad</td>\n",
              "      <td>0</td>\n",
              "    </tr>\n",
              "    <tr>\n",
              "      <th>3</th>\n",
              "      <td>Canceled</td>\n",
              "      <td>93207878</td>\n",
              "      <td>CS</td>\n",
              "      <td>68.000</td>\n",
              "      <td>2</td>\n",
              "      <td>0</td>\n",
              "      <td>bengaluru</td>\n",
              "      <td>0</td>\n",
              "    </tr>\n",
              "    <tr>\n",
              "      <th>4</th>\n",
              "      <td>Canceled</td>\n",
              "      <td>92837311</td>\n",
              "      <td>CS</td>\n",
              "      <td>11.600</td>\n",
              "      <td>2</td>\n",
              "      <td>0</td>\n",
              "      <td>dehradun</td>\n",
              "      <td>0</td>\n",
              "    </tr>\n",
              "    <tr>\n",
              "      <th>5</th>\n",
              "      <td>Canceled</td>\n",
              "      <td>90594180</td>\n",
              "      <td>WC</td>\n",
              "      <td>71.000</td>\n",
              "      <td>1</td>\n",
              "      <td>0</td>\n",
              "      <td>mumbai</td>\n",
              "      <td>0</td>\n",
              "    </tr>\n",
              "    <tr>\n",
              "      <th>6</th>\n",
              "      <td>Canceled</td>\n",
              "      <td>92905963</td>\n",
              "      <td>CS</td>\n",
              "      <td>13.500</td>\n",
              "      <td>0</td>\n",
              "      <td>1</td>\n",
              "      <td>tindivanam</td>\n",
              "      <td>0</td>\n",
              "    </tr>\n",
              "    <tr>\n",
              "      <th>7</th>\n",
              "      <td>Canceled</td>\n",
              "      <td>94775177</td>\n",
              "      <td>CS</td>\n",
              "      <td>7.500</td>\n",
              "      <td>1</td>\n",
              "      <td>0</td>\n",
              "      <td>chennai</td>\n",
              "      <td>0</td>\n",
              "    </tr>\n",
              "    <tr>\n",
              "      <th>8</th>\n",
              "      <td>Canceled</td>\n",
              "      <td>94187349</td>\n",
              "      <td>WC</td>\n",
              "      <td>7.695</td>\n",
              "      <td>1</td>\n",
              "      <td>1</td>\n",
              "      <td>delhi</td>\n",
              "      <td>0</td>\n",
              "    </tr>\n",
              "    <tr>\n",
              "      <th>9</th>\n",
              "      <td>Canceled</td>\n",
              "      <td>92760656</td>\n",
              "      <td>CS</td>\n",
              "      <td>0.010</td>\n",
              "      <td>2</td>\n",
              "      <td>0</td>\n",
              "      <td>kolkata</td>\n",
              "      <td>0</td>\n",
              "    </tr>\n",
              "  </tbody>\n",
              "</table>\n",
              "</div>"
            ],
            "text/plain": [
              "  shipment_status  order_id channel_base_code  shipment_total  gender  cod  \\\n",
              "0    AWB Assigned  92881330                CS         184.990       0    0   \n",
              "1       Delivered  93926086                CS         659.900       1    1   \n",
              "2        Canceled  94503493                CS           5.000       1    0   \n",
              "3        Canceled  93207878                CS          68.000       2    0   \n",
              "4        Canceled  92837311                CS          11.600       2    0   \n",
              "5        Canceled  90594180                WC          71.000       1    0   \n",
              "6        Canceled  92905963                CS          13.500       0    1   \n",
              "7        Canceled  94775177                CS           7.500       1    0   \n",
              "8        Canceled  94187349                WC           7.695       1    1   \n",
              "9        Canceled  92760656                CS           0.010       2    0   \n",
              "\n",
              "  delivery_city  is_rto  \n",
              "0       auraiya       0  \n",
              "1        mumbai       0  \n",
              "2    hosangabad       0  \n",
              "3     bengaluru       0  \n",
              "4      dehradun       0  \n",
              "5        mumbai       0  \n",
              "6    tindivanam       0  \n",
              "7       chennai       0  \n",
              "8         delhi       0  \n",
              "9       kolkata       0  "
            ]
          },
          "execution_count": 182,
          "metadata": {},
          "output_type": "execute_result"
        }
      ]
    },
    {
      "cell_type": "code",
      "metadata": {
        "id": "TXXZJvzG9Zvy",
        "outputId": "57d1a049-f18f-48c3-cbe8-d618f20afb55"
      },
      "source": [
        "df_new.shape"
      ],
      "execution_count": null,
      "outputs": [
        {
          "data": {
            "text/plain": [
              "(2048036, 8)"
            ]
          },
          "execution_count": 183,
          "metadata": {},
          "output_type": "execute_result"
        }
      ]
    },
    {
      "cell_type": "markdown",
      "metadata": {
        "id": "6Hl-2uJh9Zvy"
      },
      "source": [
        "# Encoding features"
      ]
    },
    {
      "cell_type": "code",
      "metadata": {
        "id": "aWtyg-4r9Zv0"
      },
      "source": [
        "# One hot encoding\n",
        "from sklearn.preprocessing import OneHotEncoder\n",
        "enc = OneHotEncoder()\n",
        "\n",
        "\n",
        "# tranforming the column after fitting\n",
        "enc = enc.fit_transform(df_new[['gender']]).toarray()\n",
        "\n",
        "\n",
        "# converting arrays to a dataframe\n",
        "encoded_colm = pd.DataFrame(enc)\n",
        "\n",
        "\n",
        "# concating dataframes \n",
        "df_new = pd.concat([df_new, encoded_colm], axis = 1) \n",
        "\n",
        "\n",
        "# removing the encoded column.\n",
        "df_new = df_new.drop(['gender'], axis = 1) \n"
      ],
      "execution_count": null,
      "outputs": []
    },
    {
      "cell_type": "code",
      "metadata": {
        "id": "YunCU1fo9Zv2"
      },
      "source": [
        "#pip install category_encoders\n"
      ],
      "execution_count": null,
      "outputs": []
    },
    {
      "cell_type": "code",
      "metadata": {
        "id": "Pg7nx-gI9Zv2",
        "outputId": "9b541e34-f36d-4a1c-c77c-ae42386b90e1"
      },
      "source": [
        "#binary encoding\n",
        "\n",
        "import category_encoders as ce\n",
        "\n",
        "encoder = ce.BinaryEncoder(cols =['delivery_city']) \n",
        "encoder2 = ce.BinaryEncoder(cols =['shipment_status']) \n",
        "encoder3 = ce.BinaryEncoder(cols =['channel_base_code']) \n",
        "# tranforming the column after fitting\n",
        "newdata = encoder.fit_transform(df_new['delivery_city'])\n",
        "newdata2 = encoder2.fit_transform(df_new['shipment_status'])\n",
        "newdata3 = encoder3.fit_transform(df_new['channel_base_code'])\n",
        "\n",
        "# concating dataframe\n",
        "df_new = pd.concat([df_new, newdata], axis = 1) \n",
        "df_new = pd.concat([df_new, newdata2], axis = 1) \n",
        "df_new = pd.concat([df_new, newdata3], axis = 1) \n",
        "# dropping old column \n",
        "\n",
        "df_new = df_new.drop(['delivery_city'], axis = 1)\n",
        "df_new = df_new.drop(['shipment_status'], axis = 1)\n",
        "df_new = df_new.drop(['channel_base_code'], axis = 1)\n",
        "df_new.head(10)"
      ],
      "execution_count": null,
      "outputs": [
        {
          "name": "stderr",
          "output_type": "stream",
          "text": [
            "c:\\python38\\lib\\site-packages\\category_encoders\\utils.py:21: FutureWarning: is_categorical is deprecated and will be removed in a future version.  Use is_categorical_dtype instead\n",
            "  elif pd.api.types.is_categorical(cols):\n",
            "c:\\python38\\lib\\site-packages\\category_encoders\\utils.py:21: FutureWarning: is_categorical is deprecated and will be removed in a future version.  Use is_categorical_dtype instead\n",
            "  elif pd.api.types.is_categorical(cols):\n",
            "c:\\python38\\lib\\site-packages\\category_encoders\\utils.py:21: FutureWarning: is_categorical is deprecated and will be removed in a future version.  Use is_categorical_dtype instead\n",
            "  elif pd.api.types.is_categorical(cols):\n"
          ]
        },
        {
          "data": {
            "text/html": [
              "<div>\n",
              "<style scoped>\n",
              "    .dataframe tbody tr th:only-of-type {\n",
              "        vertical-align: middle;\n",
              "    }\n",
              "\n",
              "    .dataframe tbody tr th {\n",
              "        vertical-align: top;\n",
              "    }\n",
              "\n",
              "    .dataframe thead th {\n",
              "        text-align: right;\n",
              "    }\n",
              "</style>\n",
              "<table border=\"1\" class=\"dataframe\">\n",
              "  <thead>\n",
              "    <tr style=\"text-align: right;\">\n",
              "      <th></th>\n",
              "      <th>order_id</th>\n",
              "      <th>shipment_total</th>\n",
              "      <th>cod</th>\n",
              "      <th>is_rto</th>\n",
              "      <th>0</th>\n",
              "      <th>1</th>\n",
              "      <th>2</th>\n",
              "      <th>delivery_city_0</th>\n",
              "      <th>delivery_city_1</th>\n",
              "      <th>delivery_city_2</th>\n",
              "      <th>...</th>\n",
              "      <th>shipment_status_1</th>\n",
              "      <th>shipment_status_2</th>\n",
              "      <th>shipment_status_3</th>\n",
              "      <th>shipment_status_4</th>\n",
              "      <th>shipment_status_5</th>\n",
              "      <th>channel_base_code_0</th>\n",
              "      <th>channel_base_code_1</th>\n",
              "      <th>channel_base_code_2</th>\n",
              "      <th>channel_base_code_3</th>\n",
              "      <th>channel_base_code_4</th>\n",
              "    </tr>\n",
              "  </thead>\n",
              "  <tbody>\n",
              "    <tr>\n",
              "      <th>0</th>\n",
              "      <td>92881330</td>\n",
              "      <td>184.990</td>\n",
              "      <td>0</td>\n",
              "      <td>0</td>\n",
              "      <td>1.0</td>\n",
              "      <td>0.0</td>\n",
              "      <td>0.0</td>\n",
              "      <td>0</td>\n",
              "      <td>0</td>\n",
              "      <td>0</td>\n",
              "      <td>...</td>\n",
              "      <td>0</td>\n",
              "      <td>0</td>\n",
              "      <td>0</td>\n",
              "      <td>0</td>\n",
              "      <td>1</td>\n",
              "      <td>0</td>\n",
              "      <td>0</td>\n",
              "      <td>0</td>\n",
              "      <td>0</td>\n",
              "      <td>1</td>\n",
              "    </tr>\n",
              "    <tr>\n",
              "      <th>1</th>\n",
              "      <td>93926086</td>\n",
              "      <td>659.900</td>\n",
              "      <td>1</td>\n",
              "      <td>0</td>\n",
              "      <td>0.0</td>\n",
              "      <td>1.0</td>\n",
              "      <td>0.0</td>\n",
              "      <td>0</td>\n",
              "      <td>0</td>\n",
              "      <td>0</td>\n",
              "      <td>...</td>\n",
              "      <td>0</td>\n",
              "      <td>0</td>\n",
              "      <td>0</td>\n",
              "      <td>1</td>\n",
              "      <td>0</td>\n",
              "      <td>0</td>\n",
              "      <td>0</td>\n",
              "      <td>0</td>\n",
              "      <td>0</td>\n",
              "      <td>1</td>\n",
              "    </tr>\n",
              "    <tr>\n",
              "      <th>2</th>\n",
              "      <td>94503493</td>\n",
              "      <td>5.000</td>\n",
              "      <td>0</td>\n",
              "      <td>0</td>\n",
              "      <td>0.0</td>\n",
              "      <td>1.0</td>\n",
              "      <td>0.0</td>\n",
              "      <td>0</td>\n",
              "      <td>0</td>\n",
              "      <td>0</td>\n",
              "      <td>...</td>\n",
              "      <td>0</td>\n",
              "      <td>0</td>\n",
              "      <td>0</td>\n",
              "      <td>1</td>\n",
              "      <td>1</td>\n",
              "      <td>0</td>\n",
              "      <td>0</td>\n",
              "      <td>0</td>\n",
              "      <td>0</td>\n",
              "      <td>1</td>\n",
              "    </tr>\n",
              "    <tr>\n",
              "      <th>3</th>\n",
              "      <td>93207878</td>\n",
              "      <td>68.000</td>\n",
              "      <td>0</td>\n",
              "      <td>0</td>\n",
              "      <td>0.0</td>\n",
              "      <td>0.0</td>\n",
              "      <td>1.0</td>\n",
              "      <td>0</td>\n",
              "      <td>0</td>\n",
              "      <td>0</td>\n",
              "      <td>...</td>\n",
              "      <td>0</td>\n",
              "      <td>0</td>\n",
              "      <td>0</td>\n",
              "      <td>1</td>\n",
              "      <td>1</td>\n",
              "      <td>0</td>\n",
              "      <td>0</td>\n",
              "      <td>0</td>\n",
              "      <td>0</td>\n",
              "      <td>1</td>\n",
              "    </tr>\n",
              "    <tr>\n",
              "      <th>4</th>\n",
              "      <td>92837311</td>\n",
              "      <td>11.600</td>\n",
              "      <td>0</td>\n",
              "      <td>0</td>\n",
              "      <td>0.0</td>\n",
              "      <td>0.0</td>\n",
              "      <td>1.0</td>\n",
              "      <td>0</td>\n",
              "      <td>0</td>\n",
              "      <td>0</td>\n",
              "      <td>...</td>\n",
              "      <td>0</td>\n",
              "      <td>0</td>\n",
              "      <td>0</td>\n",
              "      <td>1</td>\n",
              "      <td>1</td>\n",
              "      <td>0</td>\n",
              "      <td>0</td>\n",
              "      <td>0</td>\n",
              "      <td>0</td>\n",
              "      <td>1</td>\n",
              "    </tr>\n",
              "    <tr>\n",
              "      <th>5</th>\n",
              "      <td>90594180</td>\n",
              "      <td>71.000</td>\n",
              "      <td>0</td>\n",
              "      <td>0</td>\n",
              "      <td>0.0</td>\n",
              "      <td>1.0</td>\n",
              "      <td>0.0</td>\n",
              "      <td>0</td>\n",
              "      <td>0</td>\n",
              "      <td>0</td>\n",
              "      <td>...</td>\n",
              "      <td>0</td>\n",
              "      <td>0</td>\n",
              "      <td>0</td>\n",
              "      <td>1</td>\n",
              "      <td>1</td>\n",
              "      <td>0</td>\n",
              "      <td>0</td>\n",
              "      <td>0</td>\n",
              "      <td>1</td>\n",
              "      <td>0</td>\n",
              "    </tr>\n",
              "    <tr>\n",
              "      <th>6</th>\n",
              "      <td>92905963</td>\n",
              "      <td>13.500</td>\n",
              "      <td>1</td>\n",
              "      <td>0</td>\n",
              "      <td>1.0</td>\n",
              "      <td>0.0</td>\n",
              "      <td>0.0</td>\n",
              "      <td>0</td>\n",
              "      <td>0</td>\n",
              "      <td>0</td>\n",
              "      <td>...</td>\n",
              "      <td>0</td>\n",
              "      <td>0</td>\n",
              "      <td>0</td>\n",
              "      <td>1</td>\n",
              "      <td>1</td>\n",
              "      <td>0</td>\n",
              "      <td>0</td>\n",
              "      <td>0</td>\n",
              "      <td>0</td>\n",
              "      <td>1</td>\n",
              "    </tr>\n",
              "    <tr>\n",
              "      <th>7</th>\n",
              "      <td>94775177</td>\n",
              "      <td>7.500</td>\n",
              "      <td>0</td>\n",
              "      <td>0</td>\n",
              "      <td>0.0</td>\n",
              "      <td>1.0</td>\n",
              "      <td>0.0</td>\n",
              "      <td>0</td>\n",
              "      <td>0</td>\n",
              "      <td>0</td>\n",
              "      <td>...</td>\n",
              "      <td>0</td>\n",
              "      <td>0</td>\n",
              "      <td>0</td>\n",
              "      <td>1</td>\n",
              "      <td>1</td>\n",
              "      <td>0</td>\n",
              "      <td>0</td>\n",
              "      <td>0</td>\n",
              "      <td>0</td>\n",
              "      <td>1</td>\n",
              "    </tr>\n",
              "    <tr>\n",
              "      <th>8</th>\n",
              "      <td>94187349</td>\n",
              "      <td>7.695</td>\n",
              "      <td>1</td>\n",
              "      <td>0</td>\n",
              "      <td>0.0</td>\n",
              "      <td>1.0</td>\n",
              "      <td>0.0</td>\n",
              "      <td>0</td>\n",
              "      <td>0</td>\n",
              "      <td>0</td>\n",
              "      <td>...</td>\n",
              "      <td>0</td>\n",
              "      <td>0</td>\n",
              "      <td>0</td>\n",
              "      <td>1</td>\n",
              "      <td>1</td>\n",
              "      <td>0</td>\n",
              "      <td>0</td>\n",
              "      <td>0</td>\n",
              "      <td>1</td>\n",
              "      <td>0</td>\n",
              "    </tr>\n",
              "    <tr>\n",
              "      <th>9</th>\n",
              "      <td>92760656</td>\n",
              "      <td>0.010</td>\n",
              "      <td>0</td>\n",
              "      <td>0</td>\n",
              "      <td>0.0</td>\n",
              "      <td>0.0</td>\n",
              "      <td>1.0</td>\n",
              "      <td>0</td>\n",
              "      <td>0</td>\n",
              "      <td>0</td>\n",
              "      <td>...</td>\n",
              "      <td>0</td>\n",
              "      <td>0</td>\n",
              "      <td>0</td>\n",
              "      <td>1</td>\n",
              "      <td>1</td>\n",
              "      <td>0</td>\n",
              "      <td>0</td>\n",
              "      <td>0</td>\n",
              "      <td>0</td>\n",
              "      <td>1</td>\n",
              "    </tr>\n",
              "  </tbody>\n",
              "</table>\n",
              "<p>10 rows × 31 columns</p>\n",
              "</div>"
            ],
            "text/plain": [
              "   order_id  shipment_total  cod  is_rto    0    1    2  delivery_city_0  \\\n",
              "0  92881330         184.990    0       0  1.0  0.0  0.0                0   \n",
              "1  93926086         659.900    1       0  0.0  1.0  0.0                0   \n",
              "2  94503493           5.000    0       0  0.0  1.0  0.0                0   \n",
              "3  93207878          68.000    0       0  0.0  0.0  1.0                0   \n",
              "4  92837311          11.600    0       0  0.0  0.0  1.0                0   \n",
              "5  90594180          71.000    0       0  0.0  1.0  0.0                0   \n",
              "6  92905963          13.500    1       0  1.0  0.0  0.0                0   \n",
              "7  94775177           7.500    0       0  0.0  1.0  0.0                0   \n",
              "8  94187349           7.695    1       0  0.0  1.0  0.0                0   \n",
              "9  92760656           0.010    0       0  0.0  0.0  1.0                0   \n",
              "\n",
              "   delivery_city_1  delivery_city_2  ...  shipment_status_1  \\\n",
              "0                0                0  ...                  0   \n",
              "1                0                0  ...                  0   \n",
              "2                0                0  ...                  0   \n",
              "3                0                0  ...                  0   \n",
              "4                0                0  ...                  0   \n",
              "5                0                0  ...                  0   \n",
              "6                0                0  ...                  0   \n",
              "7                0                0  ...                  0   \n",
              "8                0                0  ...                  0   \n",
              "9                0                0  ...                  0   \n",
              "\n",
              "   shipment_status_2  shipment_status_3  shipment_status_4  shipment_status_5  \\\n",
              "0                  0                  0                  0                  1   \n",
              "1                  0                  0                  1                  0   \n",
              "2                  0                  0                  1                  1   \n",
              "3                  0                  0                  1                  1   \n",
              "4                  0                  0                  1                  1   \n",
              "5                  0                  0                  1                  1   \n",
              "6                  0                  0                  1                  1   \n",
              "7                  0                  0                  1                  1   \n",
              "8                  0                  0                  1                  1   \n",
              "9                  0                  0                  1                  1   \n",
              "\n",
              "   channel_base_code_0  channel_base_code_1  channel_base_code_2  \\\n",
              "0                    0                    0                    0   \n",
              "1                    0                    0                    0   \n",
              "2                    0                    0                    0   \n",
              "3                    0                    0                    0   \n",
              "4                    0                    0                    0   \n",
              "5                    0                    0                    0   \n",
              "6                    0                    0                    0   \n",
              "7                    0                    0                    0   \n",
              "8                    0                    0                    0   \n",
              "9                    0                    0                    0   \n",
              "\n",
              "   channel_base_code_3  channel_base_code_4  \n",
              "0                    0                    1  \n",
              "1                    0                    1  \n",
              "2                    0                    1  \n",
              "3                    0                    1  \n",
              "4                    0                    1  \n",
              "5                    1                    0  \n",
              "6                    0                    1  \n",
              "7                    0                    1  \n",
              "8                    1                    0  \n",
              "9                    0                    1  \n",
              "\n",
              "[10 rows x 31 columns]"
            ]
          },
          "execution_count": 187,
          "metadata": {},
          "output_type": "execute_result"
        }
      ]
    },
    {
      "cell_type": "markdown",
      "metadata": {
        "id": "DDE50Nmf9Zv3"
      },
      "source": [
        "# Models"
      ]
    },
    {
      "cell_type": "code",
      "metadata": {
        "id": "nF3kYv-p9Zv4",
        "outputId": "88148e8b-7033-4982-8c2f-a88466627cd7"
      },
      "source": [
        "df_new1=df_new.copy(deep=True)\n",
        "df_new1.drop(['is_rto','order_id','shipment_total'],inplace=True,axis=1)\n",
        "df_new1.head(3)"
      ],
      "execution_count": null,
      "outputs": [
        {
          "data": {
            "text/html": [
              "<div>\n",
              "<style scoped>\n",
              "    .dataframe tbody tr th:only-of-type {\n",
              "        vertical-align: middle;\n",
              "    }\n",
              "\n",
              "    .dataframe tbody tr th {\n",
              "        vertical-align: top;\n",
              "    }\n",
              "\n",
              "    .dataframe thead th {\n",
              "        text-align: right;\n",
              "    }\n",
              "</style>\n",
              "<table border=\"1\" class=\"dataframe\">\n",
              "  <thead>\n",
              "    <tr style=\"text-align: right;\">\n",
              "      <th></th>\n",
              "      <th>cod</th>\n",
              "      <th>0</th>\n",
              "      <th>1</th>\n",
              "      <th>2</th>\n",
              "      <th>delivery_city_0</th>\n",
              "      <th>delivery_city_1</th>\n",
              "      <th>delivery_city_2</th>\n",
              "      <th>delivery_city_3</th>\n",
              "      <th>delivery_city_4</th>\n",
              "      <th>delivery_city_5</th>\n",
              "      <th>...</th>\n",
              "      <th>shipment_status_1</th>\n",
              "      <th>shipment_status_2</th>\n",
              "      <th>shipment_status_3</th>\n",
              "      <th>shipment_status_4</th>\n",
              "      <th>shipment_status_5</th>\n",
              "      <th>channel_base_code_0</th>\n",
              "      <th>channel_base_code_1</th>\n",
              "      <th>channel_base_code_2</th>\n",
              "      <th>channel_base_code_3</th>\n",
              "      <th>channel_base_code_4</th>\n",
              "    </tr>\n",
              "  </thead>\n",
              "  <tbody>\n",
              "    <tr>\n",
              "      <th>0</th>\n",
              "      <td>0</td>\n",
              "      <td>1.0</td>\n",
              "      <td>0.0</td>\n",
              "      <td>0.0</td>\n",
              "      <td>0</td>\n",
              "      <td>0</td>\n",
              "      <td>0</td>\n",
              "      <td>0</td>\n",
              "      <td>0</td>\n",
              "      <td>0</td>\n",
              "      <td>...</td>\n",
              "      <td>0</td>\n",
              "      <td>0</td>\n",
              "      <td>0</td>\n",
              "      <td>0</td>\n",
              "      <td>1</td>\n",
              "      <td>0</td>\n",
              "      <td>0</td>\n",
              "      <td>0</td>\n",
              "      <td>0</td>\n",
              "      <td>1</td>\n",
              "    </tr>\n",
              "    <tr>\n",
              "      <th>1</th>\n",
              "      <td>1</td>\n",
              "      <td>0.0</td>\n",
              "      <td>1.0</td>\n",
              "      <td>0.0</td>\n",
              "      <td>0</td>\n",
              "      <td>0</td>\n",
              "      <td>0</td>\n",
              "      <td>0</td>\n",
              "      <td>0</td>\n",
              "      <td>0</td>\n",
              "      <td>...</td>\n",
              "      <td>0</td>\n",
              "      <td>0</td>\n",
              "      <td>0</td>\n",
              "      <td>1</td>\n",
              "      <td>0</td>\n",
              "      <td>0</td>\n",
              "      <td>0</td>\n",
              "      <td>0</td>\n",
              "      <td>0</td>\n",
              "      <td>1</td>\n",
              "    </tr>\n",
              "    <tr>\n",
              "      <th>2</th>\n",
              "      <td>0</td>\n",
              "      <td>0.0</td>\n",
              "      <td>1.0</td>\n",
              "      <td>0.0</td>\n",
              "      <td>0</td>\n",
              "      <td>0</td>\n",
              "      <td>0</td>\n",
              "      <td>0</td>\n",
              "      <td>0</td>\n",
              "      <td>0</td>\n",
              "      <td>...</td>\n",
              "      <td>0</td>\n",
              "      <td>0</td>\n",
              "      <td>0</td>\n",
              "      <td>1</td>\n",
              "      <td>1</td>\n",
              "      <td>0</td>\n",
              "      <td>0</td>\n",
              "      <td>0</td>\n",
              "      <td>0</td>\n",
              "      <td>1</td>\n",
              "    </tr>\n",
              "  </tbody>\n",
              "</table>\n",
              "<p>3 rows × 28 columns</p>\n",
              "</div>"
            ],
            "text/plain": [
              "   cod    0    1    2  delivery_city_0  delivery_city_1  delivery_city_2  \\\n",
              "0    0  1.0  0.0  0.0                0                0                0   \n",
              "1    1  0.0  1.0  0.0                0                0                0   \n",
              "2    0  0.0  1.0  0.0                0                0                0   \n",
              "\n",
              "   delivery_city_3  delivery_city_4  delivery_city_5  ...  shipment_status_1  \\\n",
              "0                0                0                0  ...                  0   \n",
              "1                0                0                0  ...                  0   \n",
              "2                0                0                0  ...                  0   \n",
              "\n",
              "   shipment_status_2  shipment_status_3  shipment_status_4  shipment_status_5  \\\n",
              "0                  0                  0                  0                  1   \n",
              "1                  0                  0                  1                  0   \n",
              "2                  0                  0                  1                  1   \n",
              "\n",
              "   channel_base_code_0  channel_base_code_1  channel_base_code_2  \\\n",
              "0                    0                    0                    0   \n",
              "1                    0                    0                    0   \n",
              "2                    0                    0                    0   \n",
              "\n",
              "   channel_base_code_3  channel_base_code_4  \n",
              "0                    0                    1  \n",
              "1                    0                    1  \n",
              "2                    0                    1  \n",
              "\n",
              "[3 rows x 28 columns]"
            ]
          },
          "execution_count": 189,
          "metadata": {},
          "output_type": "execute_result"
        }
      ]
    },
    {
      "cell_type": "code",
      "metadata": {
        "id": "p2owQLBs9Zv4",
        "outputId": "f56231ca-9494-43ed-c2fe-c65fb3b3c17b"
      },
      "source": [
        "df4.columns"
      ],
      "execution_count": null,
      "outputs": [
        {
          "data": {
            "text/plain": [
              "Index(['shipment_status', 'order_id', 'channel_base_code', 'shipment_total',\n",
              "       'assigned_date_time', 'awb_shipped_date', 'awb_delivered_date',\n",
              "       'gender', 'cod', 'etd', 'delivery_postcode', 'delivery_city',\n",
              "       'delivery_state', 'is_rto'],\n",
              "      dtype='object')"
            ]
          },
          "execution_count": 190,
          "metadata": {},
          "output_type": "execute_result"
        }
      ]
    },
    {
      "cell_type": "code",
      "metadata": {
        "id": "ghj7NkQA9Zv5",
        "outputId": "28791a3f-33a2-4b58-fd56-2f0efed40d2d"
      },
      "source": [
        "# Our target variable is unbalanced. Hence we will use balanced weight under logistic regression\n",
        "df_new['is_rto'].value_counts()"
      ],
      "execution_count": null,
      "outputs": [
        {
          "data": {
            "text/plain": [
              "0    1723750\n",
              "1     324286\n",
              "Name: is_rto, dtype: int64"
            ]
          },
          "execution_count": 191,
          "metadata": {},
          "output_type": "execute_result"
        }
      ]
    },
    {
      "cell_type": "markdown",
      "metadata": {
        "id": "8wh5QZLB9Zv5"
      },
      "source": [
        "# Logistic Regression"
      ]
    },
    {
      "cell_type": "code",
      "metadata": {
        "id": "MSgEzUId9Zv6",
        "outputId": "8c93a193-20ef-4091-d5b5-71824d96ea4b"
      },
      "source": [
        "\n",
        "from sklearn.model_selection import train_test_split\n",
        "X = df_new1\n",
        "y = df_new['is_rto']\n",
        "\n",
        "from sklearn.linear_model import LogisticRegressionCV\n",
        "from sklearn import metrics\n",
        "X_train, X_test, y_train, y_test = train_test_split(X, y, test_size=0.3, random_state=4)\n",
        "logreg = LogisticRegressionCV(cv=5,n_jobs=1,random_state=0,class_weight='balanced')\n",
        "logreg.fit(X_train, y_train)\n",
        "\n"
      ],
      "execution_count": null,
      "outputs": [
        {
          "name": "stderr",
          "output_type": "stream",
          "text": [
            "c:\\python38\\lib\\site-packages\\sklearn\\linear_model\\_logistic.py:762: ConvergenceWarning: lbfgs failed to converge (status=1):\n",
            "STOP: TOTAL NO. of ITERATIONS REACHED LIMIT.\n",
            "\n",
            "Increase the number of iterations (max_iter) or scale the data as shown in:\n",
            "    https://scikit-learn.org/stable/modules/preprocessing.html\n",
            "Please also refer to the documentation for alternative solver options:\n",
            "    https://scikit-learn.org/stable/modules/linear_model.html#logistic-regression\n",
            "  n_iter_i = _check_optimize_result(\n"
          ]
        }
      ]
    },
    {
      "cell_type": "code",
      "metadata": {
        "id": "4t3X7voz9Zv7",
        "outputId": "f8f573e6-2efb-444f-f573-909c7ea86d69"
      },
      "source": [
        "y_pred = logreg.predict(X_test)\n",
        "print('Accuracy of logistic regression classifier on test set: {:.2f}'.format(logreg.score(X_test, y_test)))"
      ],
      "execution_count": null,
      "outputs": [
        {
          "name": "stdout",
          "output_type": "stream",
          "text": [
            "Accuracy of logistic regression classifier on test set: 1.00\n"
          ]
        }
      ]
    },
    {
      "cell_type": "code",
      "metadata": {
        "id": "QAKDEYyi9Zv7",
        "outputId": "61981c07-16f2-456d-a625-bf48974112c2"
      },
      "source": [
        "b=logreg.predict_proba(X)\n",
        "b"
      ],
      "execution_count": null,
      "outputs": [
        {
          "data": {
            "text/plain": [
              "array([[1.000e+00, 1.191e-10],\n",
              "       [1.000e+00, 1.277e-07],\n",
              "       [1.000e+00, 9.956e-06],\n",
              "       ...,\n",
              "       [1.000e+00, 2.174e-08],\n",
              "       [1.000e+00, 2.174e-08],\n",
              "       [1.000e+00, 2.152e-07]])"
            ]
          },
          "execution_count": 278,
          "metadata": {},
          "output_type": "execute_result"
        }
      ]
    },
    {
      "cell_type": "markdown",
      "metadata": {
        "id": "IYeKpZoQ9Zv8"
      },
      "source": [
        "# Model performance evaluation"
      ]
    },
    {
      "cell_type": "code",
      "metadata": {
        "id": "IfwyPWuC9Zv8",
        "outputId": "b95cc45e-ae09-4fc4-e100-1f85bd6d03e4"
      },
      "source": [
        "from sklearn.metrics import confusion_matrix\n",
        "confusion_matrix = confusion_matrix(y_test, y_pred)\n",
        "print(confusion_matrix)"
      ],
      "execution_count": null,
      "outputs": [
        {
          "name": "stdout",
          "output_type": "stream",
          "text": [
            "[[517127     48]\n",
            " [     0  97236]]\n"
          ]
        }
      ]
    },
    {
      "cell_type": "code",
      "metadata": {
        "id": "cXrJZut89Zv8",
        "outputId": "d24a848a-1adb-42be-f483-25e1ef2242b0"
      },
      "source": [
        "from sklearn.metrics import classification_report\n",
        "print(classification_report(y_test, y_pred))"
      ],
      "execution_count": null,
      "outputs": [
        {
          "name": "stdout",
          "output_type": "stream",
          "text": [
            "              precision    recall  f1-score   support\n",
            "\n",
            "           0       1.00      1.00      1.00    517175\n",
            "           1       1.00      1.00      1.00     97236\n",
            "\n",
            "    accuracy                           1.00    614411\n",
            "   macro avg       1.00      1.00      1.00    614411\n",
            "weighted avg       1.00      1.00      1.00    614411\n",
            "\n"
          ]
        }
      ]
    },
    {
      "cell_type": "code",
      "metadata": {
        "id": "QjZPHKGe9Zv9"
      },
      "source": [
        ""
      ],
      "execution_count": null,
      "outputs": []
    },
    {
      "cell_type": "markdown",
      "metadata": {
        "id": "AfxDH-rO9Zv-"
      },
      "source": [
        "# Naive Bayes"
      ]
    },
    {
      "cell_type": "code",
      "metadata": {
        "id": "Cu_dNXv49Zv-"
      },
      "source": [
        "from sklearn.naive_bayes import GaussianNB\n",
        "gnb = GaussianNB()\n",
        "y_pred = gnb.fit(X_train, y_train).predict(X_test)"
      ],
      "execution_count": null,
      "outputs": []
    },
    {
      "cell_type": "code",
      "metadata": {
        "id": "6uVctNuR9Zv-",
        "outputId": "4359c777-be43-4b16-f331-60f00dfb46ef"
      },
      "source": [
        "print(\"Number of mislabeled points out of a total %d points : %d\"\n",
        "...       % (X_test.shape[0], (y_test != y_pred).sum()))"
      ],
      "execution_count": null,
      "outputs": [
        {
          "name": "stdout",
          "output_type": "stream",
          "text": [
            "Number of mislabeled points out of a total 614411 points : 697\n"
          ]
        }
      ]
    },
    {
      "cell_type": "code",
      "metadata": {
        "id": "mhEIn2YG9Zv_",
        "outputId": "310a725c-e58b-4e91-dccc-cfeb7b074563"
      },
      "source": [
        "gnb.predict_proba(X_test)"
      ],
      "execution_count": null,
      "outputs": [
        {
          "data": {
            "text/plain": [
              "array([[1., 0.],\n",
              "       [1., 0.],\n",
              "       [1., 0.],\n",
              "       ...,\n",
              "       [0., 1.],\n",
              "       [1., 0.],\n",
              "       [1., 0.]])"
            ]
          },
          "execution_count": 211,
          "metadata": {},
          "output_type": "execute_result"
        }
      ]
    },
    {
      "cell_type": "code",
      "metadata": {
        "id": "5rcW3L_p9ZwA"
      },
      "source": [
        ""
      ],
      "execution_count": null,
      "outputs": []
    },
    {
      "cell_type": "markdown",
      "metadata": {
        "id": "8W5hSuJj9ZwA"
      },
      "source": [
        "# Validation data"
      ]
    },
    {
      "cell_type": "code",
      "metadata": {
        "id": "H-3Y-NMi9ZwA"
      },
      "source": [
        "v=pd.read_csv('validation_data.csv',sep='|')"
      ],
      "execution_count": null,
      "outputs": []
    },
    {
      "cell_type": "code",
      "metadata": {
        "id": "BoNvW7A39ZwA",
        "outputId": "d03fd08f-0692-468c-bed5-d96d1a011f8e"
      },
      "source": [
        "v2=v[['shipment_status','order_id','channel_base_code','shipment_total','gender','cod','delivery_city']]\n",
        "v2.head(3)"
      ],
      "execution_count": null,
      "outputs": [
        {
          "data": {
            "text/html": [
              "<div>\n",
              "<style scoped>\n",
              "    .dataframe tbody tr th:only-of-type {\n",
              "        vertical-align: middle;\n",
              "    }\n",
              "\n",
              "    .dataframe tbody tr th {\n",
              "        vertical-align: top;\n",
              "    }\n",
              "\n",
              "    .dataframe thead th {\n",
              "        text-align: right;\n",
              "    }\n",
              "</style>\n",
              "<table border=\"1\" class=\"dataframe\">\n",
              "  <thead>\n",
              "    <tr style=\"text-align: right;\">\n",
              "      <th></th>\n",
              "      <th>shipment_status</th>\n",
              "      <th>order_id</th>\n",
              "      <th>channel_base_code</th>\n",
              "      <th>shipment_total</th>\n",
              "      <th>gender</th>\n",
              "      <th>cod</th>\n",
              "      <th>delivery_city</th>\n",
              "    </tr>\n",
              "  </thead>\n",
              "  <tbody>\n",
              "    <tr>\n",
              "      <th>0</th>\n",
              "      <td>AWB Assigned</td>\n",
              "      <td>96460265</td>\n",
              "      <td>CS</td>\n",
              "      <td>164.99</td>\n",
              "      <td>0</td>\n",
              "      <td>1</td>\n",
              "      <td>bhadra</td>\n",
              "    </tr>\n",
              "    <tr>\n",
              "      <th>1</th>\n",
              "      <td>AWB Assigned</td>\n",
              "      <td>96748415</td>\n",
              "      <td>CS</td>\n",
              "      <td>189.99</td>\n",
              "      <td>0</td>\n",
              "      <td>0</td>\n",
              "      <td>jaipur</td>\n",
              "    </tr>\n",
              "    <tr>\n",
              "      <th>2</th>\n",
              "      <td>AWB Assigned</td>\n",
              "      <td>96430840</td>\n",
              "      <td>CS</td>\n",
              "      <td>254.99</td>\n",
              "      <td>0</td>\n",
              "      <td>0</td>\n",
              "      <td>ahmedabad</td>\n",
              "    </tr>\n",
              "  </tbody>\n",
              "</table>\n",
              "</div>"
            ],
            "text/plain": [
              "  shipment_status  order_id channel_base_code  shipment_total  gender  cod  \\\n",
              "0    AWB Assigned  96460265                CS          164.99       0    1   \n",
              "1    AWB Assigned  96748415                CS          189.99       0    0   \n",
              "2    AWB Assigned  96430840                CS          254.99       0    0   \n",
              "\n",
              "  delivery_city  \n",
              "0        bhadra  \n",
              "1        jaipur  \n",
              "2     ahmedabad  "
            ]
          },
          "execution_count": 262,
          "metadata": {},
          "output_type": "execute_result"
        }
      ]
    },
    {
      "cell_type": "code",
      "metadata": {
        "id": "KKABlG6Q9ZwB"
      },
      "source": [
        ""
      ],
      "execution_count": null,
      "outputs": []
    },
    {
      "cell_type": "code",
      "metadata": {
        "id": "PPzC5zRd9ZwB"
      },
      "source": [
        "# One hot encoding\n",
        "from sklearn.preprocessing import OneHotEncoder\n",
        "enc = OneHotEncoder()\n",
        "\n",
        "\n",
        "# tranforming the column after fitting\n",
        "enc = enc.fit_transform(v2[['gender']]).toarray()\n",
        "\n",
        "\n",
        "# converting arrays to a dataframe\n",
        "encoded_colm = pd.DataFrame(enc)\n",
        "\n",
        "\n",
        "# concating dataframes \n",
        "v2 = pd.concat([v2, encoded_colm], axis = 1) \n",
        "\n",
        "\n",
        "# removing the encoded column.\n",
        "v2 = v2.drop(['gender'], axis = 1) \n"
      ],
      "execution_count": null,
      "outputs": []
    },
    {
      "cell_type": "code",
      "metadata": {
        "id": "xNjrs9_h9ZwC",
        "outputId": "a84b365a-1c7a-4fd1-cff9-ef04b0a38ee0"
      },
      "source": [
        "#binary encoding\n",
        "\n",
        "import category_encoders as ce\n",
        "\n",
        "encoder = ce.BinaryEncoder(cols =['delivery_city']) \n",
        "encoder2 = ce.BinaryEncoder(cols =['shipment_status']) \n",
        "encoder3 = ce.BinaryEncoder(cols =['channel_base_code']) \n",
        "# tranforming the column after fitting\n",
        "newdata = encoder.fit_transform(v2['delivery_city'])\n",
        "newdata2 = encoder2.fit_transform(v2['shipment_status'])\n",
        "newdata3 = encoder3.fit_transform(v2['channel_base_code'])\n",
        "\n",
        "# concating dataframe\n",
        "v2 = pd.concat([v2, newdata], axis = 1) \n",
        "v2 = pd.concat([v2, newdata2], axis = 1) \n",
        "v2 = pd.concat([v2, newdata3], axis = 1) \n",
        "# dropping old column \n",
        "\n",
        "v2 = v2.drop(['delivery_city'], axis = 1)\n",
        "v2 = v2.drop(['shipment_status'], axis = 1)\n",
        "v2 = v2.drop(['channel_base_code'], axis = 1)\n"
      ],
      "execution_count": null,
      "outputs": [
        {
          "name": "stderr",
          "output_type": "stream",
          "text": [
            "c:\\python38\\lib\\site-packages\\category_encoders\\utils.py:21: FutureWarning: is_categorical is deprecated and will be removed in a future version.  Use is_categorical_dtype instead\n",
            "  elif pd.api.types.is_categorical(cols):\n",
            "c:\\python38\\lib\\site-packages\\category_encoders\\utils.py:21: FutureWarning: is_categorical is deprecated and will be removed in a future version.  Use is_categorical_dtype instead\n",
            "  elif pd.api.types.is_categorical(cols):\n",
            "c:\\python38\\lib\\site-packages\\category_encoders\\utils.py:21: FutureWarning: is_categorical is deprecated and will be removed in a future version.  Use is_categorical_dtype instead\n",
            "  elif pd.api.types.is_categorical(cols):\n"
          ]
        },
        {
          "data": {
            "text/html": [
              "<div>\n",
              "<style scoped>\n",
              "    .dataframe tbody tr th:only-of-type {\n",
              "        vertical-align: middle;\n",
              "    }\n",
              "\n",
              "    .dataframe tbody tr th {\n",
              "        vertical-align: top;\n",
              "    }\n",
              "\n",
              "    .dataframe thead th {\n",
              "        text-align: right;\n",
              "    }\n",
              "</style>\n",
              "<table border=\"1\" class=\"dataframe\">\n",
              "  <thead>\n",
              "    <tr style=\"text-align: right;\">\n",
              "      <th></th>\n",
              "      <th>order_id</th>\n",
              "      <th>shipment_total</th>\n",
              "      <th>cod</th>\n",
              "      <th>0</th>\n",
              "      <th>1</th>\n",
              "      <th>2</th>\n",
              "      <th>delivery_city_0</th>\n",
              "      <th>delivery_city_1</th>\n",
              "      <th>delivery_city_2</th>\n",
              "      <th>delivery_city_3</th>\n",
              "      <th>...</th>\n",
              "      <th>shipment_status_1</th>\n",
              "      <th>shipment_status_2</th>\n",
              "      <th>shipment_status_3</th>\n",
              "      <th>shipment_status_4</th>\n",
              "      <th>shipment_status_5</th>\n",
              "      <th>channel_base_code_0</th>\n",
              "      <th>channel_base_code_1</th>\n",
              "      <th>channel_base_code_2</th>\n",
              "      <th>channel_base_code_3</th>\n",
              "      <th>channel_base_code_4</th>\n",
              "    </tr>\n",
              "  </thead>\n",
              "  <tbody>\n",
              "    <tr>\n",
              "      <th>0</th>\n",
              "      <td>96460265.0</td>\n",
              "      <td>164.9900</td>\n",
              "      <td>1.0</td>\n",
              "      <td>1.0</td>\n",
              "      <td>0.0</td>\n",
              "      <td>0.0</td>\n",
              "      <td>0</td>\n",
              "      <td>0</td>\n",
              "      <td>0</td>\n",
              "      <td>0</td>\n",
              "      <td>...</td>\n",
              "      <td>0</td>\n",
              "      <td>0</td>\n",
              "      <td>0</td>\n",
              "      <td>0</td>\n",
              "      <td>1</td>\n",
              "      <td>0</td>\n",
              "      <td>0</td>\n",
              "      <td>0</td>\n",
              "      <td>0</td>\n",
              "      <td>1</td>\n",
              "    </tr>\n",
              "    <tr>\n",
              "      <th>1</th>\n",
              "      <td>96748415.0</td>\n",
              "      <td>189.9900</td>\n",
              "      <td>0.0</td>\n",
              "      <td>1.0</td>\n",
              "      <td>0.0</td>\n",
              "      <td>0.0</td>\n",
              "      <td>0</td>\n",
              "      <td>0</td>\n",
              "      <td>0</td>\n",
              "      <td>0</td>\n",
              "      <td>...</td>\n",
              "      <td>0</td>\n",
              "      <td>0</td>\n",
              "      <td>0</td>\n",
              "      <td>0</td>\n",
              "      <td>1</td>\n",
              "      <td>0</td>\n",
              "      <td>0</td>\n",
              "      <td>0</td>\n",
              "      <td>0</td>\n",
              "      <td>1</td>\n",
              "    </tr>\n",
              "    <tr>\n",
              "      <th>2</th>\n",
              "      <td>96430840.0</td>\n",
              "      <td>254.9900</td>\n",
              "      <td>0.0</td>\n",
              "      <td>1.0</td>\n",
              "      <td>0.0</td>\n",
              "      <td>0.0</td>\n",
              "      <td>0</td>\n",
              "      <td>0</td>\n",
              "      <td>0</td>\n",
              "      <td>0</td>\n",
              "      <td>...</td>\n",
              "      <td>0</td>\n",
              "      <td>0</td>\n",
              "      <td>0</td>\n",
              "      <td>0</td>\n",
              "      <td>1</td>\n",
              "      <td>0</td>\n",
              "      <td>0</td>\n",
              "      <td>0</td>\n",
              "      <td>0</td>\n",
              "      <td>1</td>\n",
              "    </tr>\n",
              "    <tr>\n",
              "      <th>3</th>\n",
              "      <td>96687141.0</td>\n",
              "      <td>237.4905</td>\n",
              "      <td>0.0</td>\n",
              "      <td>1.0</td>\n",
              "      <td>0.0</td>\n",
              "      <td>0.0</td>\n",
              "      <td>0</td>\n",
              "      <td>0</td>\n",
              "      <td>0</td>\n",
              "      <td>0</td>\n",
              "      <td>...</td>\n",
              "      <td>0</td>\n",
              "      <td>0</td>\n",
              "      <td>0</td>\n",
              "      <td>0</td>\n",
              "      <td>1</td>\n",
              "      <td>0</td>\n",
              "      <td>0</td>\n",
              "      <td>0</td>\n",
              "      <td>0</td>\n",
              "      <td>1</td>\n",
              "    </tr>\n",
              "    <tr>\n",
              "      <th>4</th>\n",
              "      <td>95926480.0</td>\n",
              "      <td>46.9900</td>\n",
              "      <td>1.0</td>\n",
              "      <td>1.0</td>\n",
              "      <td>0.0</td>\n",
              "      <td>0.0</td>\n",
              "      <td>0</td>\n",
              "      <td>0</td>\n",
              "      <td>0</td>\n",
              "      <td>0</td>\n",
              "      <td>...</td>\n",
              "      <td>0</td>\n",
              "      <td>0</td>\n",
              "      <td>0</td>\n",
              "      <td>1</td>\n",
              "      <td>0</td>\n",
              "      <td>0</td>\n",
              "      <td>0</td>\n",
              "      <td>0</td>\n",
              "      <td>0</td>\n",
              "      <td>1</td>\n",
              "    </tr>\n",
              "    <tr>\n",
              "      <th>5</th>\n",
              "      <td>95926569.0</td>\n",
              "      <td>19.9900</td>\n",
              "      <td>1.0</td>\n",
              "      <td>0.0</td>\n",
              "      <td>1.0</td>\n",
              "      <td>0.0</td>\n",
              "      <td>0</td>\n",
              "      <td>0</td>\n",
              "      <td>0</td>\n",
              "      <td>0</td>\n",
              "      <td>...</td>\n",
              "      <td>0</td>\n",
              "      <td>0</td>\n",
              "      <td>0</td>\n",
              "      <td>1</td>\n",
              "      <td>0</td>\n",
              "      <td>0</td>\n",
              "      <td>0</td>\n",
              "      <td>0</td>\n",
              "      <td>0</td>\n",
              "      <td>1</td>\n",
              "    </tr>\n",
              "    <tr>\n",
              "      <th>6</th>\n",
              "      <td>95926526.0</td>\n",
              "      <td>24.9900</td>\n",
              "      <td>1.0</td>\n",
              "      <td>0.0</td>\n",
              "      <td>1.0</td>\n",
              "      <td>0.0</td>\n",
              "      <td>0</td>\n",
              "      <td>0</td>\n",
              "      <td>0</td>\n",
              "      <td>0</td>\n",
              "      <td>...</td>\n",
              "      <td>0</td>\n",
              "      <td>0</td>\n",
              "      <td>0</td>\n",
              "      <td>1</td>\n",
              "      <td>0</td>\n",
              "      <td>0</td>\n",
              "      <td>0</td>\n",
              "      <td>0</td>\n",
              "      <td>0</td>\n",
              "      <td>1</td>\n",
              "    </tr>\n",
              "    <tr>\n",
              "      <th>7</th>\n",
              "      <td>95850299.0</td>\n",
              "      <td>32.7500</td>\n",
              "      <td>1.0</td>\n",
              "      <td>0.0</td>\n",
              "      <td>1.0</td>\n",
              "      <td>0.0</td>\n",
              "      <td>0</td>\n",
              "      <td>0</td>\n",
              "      <td>0</td>\n",
              "      <td>0</td>\n",
              "      <td>...</td>\n",
              "      <td>0</td>\n",
              "      <td>0</td>\n",
              "      <td>0</td>\n",
              "      <td>1</td>\n",
              "      <td>0</td>\n",
              "      <td>0</td>\n",
              "      <td>0</td>\n",
              "      <td>0</td>\n",
              "      <td>0</td>\n",
              "      <td>1</td>\n",
              "    </tr>\n",
              "    <tr>\n",
              "      <th>8</th>\n",
              "      <td>95850294.0</td>\n",
              "      <td>32.7500</td>\n",
              "      <td>1.0</td>\n",
              "      <td>0.0</td>\n",
              "      <td>0.0</td>\n",
              "      <td>1.0</td>\n",
              "      <td>0</td>\n",
              "      <td>0</td>\n",
              "      <td>0</td>\n",
              "      <td>0</td>\n",
              "      <td>...</td>\n",
              "      <td>0</td>\n",
              "      <td>0</td>\n",
              "      <td>0</td>\n",
              "      <td>1</td>\n",
              "      <td>0</td>\n",
              "      <td>0</td>\n",
              "      <td>0</td>\n",
              "      <td>0</td>\n",
              "      <td>0</td>\n",
              "      <td>1</td>\n",
              "    </tr>\n",
              "    <tr>\n",
              "      <th>9</th>\n",
              "      <td>95850295.0</td>\n",
              "      <td>32.7500</td>\n",
              "      <td>1.0</td>\n",
              "      <td>0.0</td>\n",
              "      <td>1.0</td>\n",
              "      <td>0.0</td>\n",
              "      <td>0</td>\n",
              "      <td>0</td>\n",
              "      <td>0</td>\n",
              "      <td>0</td>\n",
              "      <td>...</td>\n",
              "      <td>0</td>\n",
              "      <td>0</td>\n",
              "      <td>0</td>\n",
              "      <td>1</td>\n",
              "      <td>0</td>\n",
              "      <td>0</td>\n",
              "      <td>0</td>\n",
              "      <td>0</td>\n",
              "      <td>0</td>\n",
              "      <td>1</td>\n",
              "    </tr>\n",
              "  </tbody>\n",
              "</table>\n",
              "<p>10 rows × 30 columns</p>\n",
              "</div>"
            ],
            "text/plain": [
              "     order_id  shipment_total  cod    0    1    2  delivery_city_0  \\\n",
              "0  96460265.0        164.9900  1.0  1.0  0.0  0.0                0   \n",
              "1  96748415.0        189.9900  0.0  1.0  0.0  0.0                0   \n",
              "2  96430840.0        254.9900  0.0  1.0  0.0  0.0                0   \n",
              "3  96687141.0        237.4905  0.0  1.0  0.0  0.0                0   \n",
              "4  95926480.0         46.9900  1.0  1.0  0.0  0.0                0   \n",
              "5  95926569.0         19.9900  1.0  0.0  1.0  0.0                0   \n",
              "6  95926526.0         24.9900  1.0  0.0  1.0  0.0                0   \n",
              "7  95850299.0         32.7500  1.0  0.0  1.0  0.0                0   \n",
              "8  95850294.0         32.7500  1.0  0.0  0.0  1.0                0   \n",
              "9  95850295.0         32.7500  1.0  0.0  1.0  0.0                0   \n",
              "\n",
              "   delivery_city_1  delivery_city_2  delivery_city_3  ...  shipment_status_1  \\\n",
              "0                0                0                0  ...                  0   \n",
              "1                0                0                0  ...                  0   \n",
              "2                0                0                0  ...                  0   \n",
              "3                0                0                0  ...                  0   \n",
              "4                0                0                0  ...                  0   \n",
              "5                0                0                0  ...                  0   \n",
              "6                0                0                0  ...                  0   \n",
              "7                0                0                0  ...                  0   \n",
              "8                0                0                0  ...                  0   \n",
              "9                0                0                0  ...                  0   \n",
              "\n",
              "   shipment_status_2  shipment_status_3  shipment_status_4  shipment_status_5  \\\n",
              "0                  0                  0                  0                  1   \n",
              "1                  0                  0                  0                  1   \n",
              "2                  0                  0                  0                  1   \n",
              "3                  0                  0                  0                  1   \n",
              "4                  0                  0                  1                  0   \n",
              "5                  0                  0                  1                  0   \n",
              "6                  0                  0                  1                  0   \n",
              "7                  0                  0                  1                  0   \n",
              "8                  0                  0                  1                  0   \n",
              "9                  0                  0                  1                  0   \n",
              "\n",
              "   channel_base_code_0  channel_base_code_1  channel_base_code_2  \\\n",
              "0                    0                    0                    0   \n",
              "1                    0                    0                    0   \n",
              "2                    0                    0                    0   \n",
              "3                    0                    0                    0   \n",
              "4                    0                    0                    0   \n",
              "5                    0                    0                    0   \n",
              "6                    0                    0                    0   \n",
              "7                    0                    0                    0   \n",
              "8                    0                    0                    0   \n",
              "9                    0                    0                    0   \n",
              "\n",
              "   channel_base_code_3  channel_base_code_4  \n",
              "0                    0                    1  \n",
              "1                    0                    1  \n",
              "2                    0                    1  \n",
              "3                    0                    1  \n",
              "4                    0                    1  \n",
              "5                    0                    1  \n",
              "6                    0                    1  \n",
              "7                    0                    1  \n",
              "8                    0                    1  \n",
              "9                    0                    1  \n",
              "\n",
              "[10 rows x 30 columns]"
            ]
          },
          "execution_count": 268,
          "metadata": {},
          "output_type": "execute_result"
        }
      ]
    },
    {
      "cell_type": "code",
      "metadata": {
        "id": "CuaXVu869ZwC"
      },
      "source": [
        "v2 = v2.drop(['shipment_total'], axis = 1)\n",
        "v2 = v2[v2.cod.notna()]\n",
        "v2 = v2[v2.delivery_city.notna()]\n",
        "v2 = v2[v2[0].notna()]\n",
        "v2 = v2[v2[1].notna()]\n",
        "v2.isnull().sum()"
      ],
      "execution_count": null,
      "outputs": []
    },
    {
      "cell_type": "code",
      "metadata": {
        "id": "BjPtZunh9ZwD",
        "outputId": "e5218a92-6fae-434b-e554-fe27a26b2920"
      },
      "source": [
        "v3=v2.copy(deep=True)\n",
        "v3.drop(['order_id'],inplace=True,axis=1)\n",
        "bv=logreg.predict_proba(v3)\n",
        "lv=list(bv[:,1]*100)\n",
        "import numpy as np\n",
        "myList2 = list(np.around(np.array(lv),2))\n",
        "av=v2[['order_id']]\n",
        "av['prob_is_rto']=myList2\n",
        "#df_output.head(5)\n",
        "#av.to_csv( 'output.csv', index=False,sep='|')"
      ],
      "execution_count": null,
      "outputs": [
        {
          "name": "stderr",
          "output_type": "stream",
          "text": [
            "<ipython-input-276-874b89a822ec>:8: SettingWithCopyWarning: \n",
            "A value is trying to be set on a copy of a slice from a DataFrame.\n",
            "Try using .loc[row_indexer,col_indexer] = value instead\n",
            "\n",
            "See the caveats in the documentation: https://pandas.pydata.org/pandas-docs/stable/user_guide/indexing.html#returning-a-view-versus-a-copy\n",
            "  av['prob_is_rto']=myList2\n"
          ]
        }
      ]
    },
    {
      "cell_type": "code",
      "metadata": {
        "id": "LuKWMcEp9ZwD",
        "outputId": "bfbac3fe-b427-4acd-9308-917f6557816e"
      },
      "source": [
        "av"
      ],
      "execution_count": null,
      "outputs": [
        {
          "data": {
            "text/html": [
              "<div>\n",
              "<style scoped>\n",
              "    .dataframe tbody tr th:only-of-type {\n",
              "        vertical-align: middle;\n",
              "    }\n",
              "\n",
              "    .dataframe tbody tr th {\n",
              "        vertical-align: top;\n",
              "    }\n",
              "\n",
              "    .dataframe thead th {\n",
              "        text-align: right;\n",
              "    }\n",
              "</style>\n",
              "<table border=\"1\" class=\"dataframe\">\n",
              "  <thead>\n",
              "    <tr style=\"text-align: right;\">\n",
              "      <th></th>\n",
              "      <th>order_id</th>\n",
              "      <th>prob_is_rto</th>\n",
              "    </tr>\n",
              "  </thead>\n",
              "  <tbody>\n",
              "    <tr>\n",
              "      <th>0</th>\n",
              "      <td>96460265.0</td>\n",
              "      <td>0.0</td>\n",
              "    </tr>\n",
              "    <tr>\n",
              "      <th>1</th>\n",
              "      <td>96748415.0</td>\n",
              "      <td>0.0</td>\n",
              "    </tr>\n",
              "    <tr>\n",
              "      <th>2</th>\n",
              "      <td>96430840.0</td>\n",
              "      <td>0.0</td>\n",
              "    </tr>\n",
              "    <tr>\n",
              "      <th>3</th>\n",
              "      <td>96687141.0</td>\n",
              "      <td>0.0</td>\n",
              "    </tr>\n",
              "    <tr>\n",
              "      <th>4</th>\n",
              "      <td>95926480.0</td>\n",
              "      <td>0.0</td>\n",
              "    </tr>\n",
              "    <tr>\n",
              "      <th>...</th>\n",
              "      <td>...</td>\n",
              "      <td>...</td>\n",
              "    </tr>\n",
              "    <tr>\n",
              "      <th>936048</th>\n",
              "      <td>95728293.0</td>\n",
              "      <td>0.0</td>\n",
              "    </tr>\n",
              "    <tr>\n",
              "      <th>936049</th>\n",
              "      <td>96074006.0</td>\n",
              "      <td>0.0</td>\n",
              "    </tr>\n",
              "    <tr>\n",
              "      <th>936050</th>\n",
              "      <td>96086296.0</td>\n",
              "      <td>0.0</td>\n",
              "    </tr>\n",
              "    <tr>\n",
              "      <th>936051</th>\n",
              "      <td>95728267.0</td>\n",
              "      <td>0.0</td>\n",
              "    </tr>\n",
              "    <tr>\n",
              "      <th>936052</th>\n",
              "      <td>96086366.0</td>\n",
              "      <td>0.0</td>\n",
              "    </tr>\n",
              "  </tbody>\n",
              "</table>\n",
              "<p>935946 rows × 2 columns</p>\n",
              "</div>"
            ],
            "text/plain": [
              "          order_id  prob_is_rto\n",
              "0       96460265.0          0.0\n",
              "1       96748415.0          0.0\n",
              "2       96430840.0          0.0\n",
              "3       96687141.0          0.0\n",
              "4       95926480.0          0.0\n",
              "...            ...          ...\n",
              "936048  95728293.0          0.0\n",
              "936049  96074006.0          0.0\n",
              "936050  96086296.0          0.0\n",
              "936051  95728267.0          0.0\n",
              "936052  96086366.0          0.0\n",
              "\n",
              "[935946 rows x 2 columns]"
            ]
          },
          "execution_count": 279,
          "metadata": {},
          "output_type": "execute_result"
        }
      ]
    },
    {
      "cell_type": "code",
      "metadata": {
        "id": "sAOID8Jl9ZwO"
      },
      "source": [
        ""
      ],
      "execution_count": null,
      "outputs": []
    },
    {
      "cell_type": "code",
      "metadata": {
        "id": "ippWpO5Yhzfw"
      },
      "source": [
        "test_data"
      ],
      "execution_count": null,
      "outputs": []
    },
    {
      "cell_type": "code",
      "metadata": {
        "id": "ttnd7sduhziP"
      },
      "source": [
        ""
      ],
      "execution_count": null,
      "outputs": []
    },
    {
      "cell_type": "code",
      "metadata": {
        "id": "P9v8anp6hzlh"
      },
      "source": [
        "test_data.drop(['latest_ver'],inplace=True,axis=1)\n",
        "\n",
        "import re\n",
        "def to_num(a):\n",
        "    num= re.findall('[0-9]+',a)\n",
        "    b=\"\".join(num)\n",
        "    return int(b)\n",
        "def to_bin(a):\n",
        "    if a==0:\n",
        "        return 0\n",
        "    return 1\n",
        "def to_kb(a):\n",
        "    elem=a[-1]\n",
        "    if elem=='M':\n",
        "        b=to_num(a[:-1])\n",
        "        return (b*1024)\n",
        "    return (to_num(a[:-1]))\n",
        "def target(a):\n",
        "    if a=='High':\n",
        "        return 1\n",
        "    return 0\n",
        "\n",
        "train['installs']=train['installs'].apply(to_num)\n",
        "train['price']=train['price'].apply(to_num)\n",
        "train['price']=train['price'].apply(to_bin)\n",
        "train['size']=train['size'].apply(to_kb)\n",
        "train['popularity']=train['popularity'].apply(target)\n",
        "\n",
        "from sklearn.preprocessing import OneHotEncoder\n",
        "enc = OneHotEncoder()\n",
        "\n",
        "\n",
        "# tranforming the column after fitting\n",
        "enc = enc.fit_transform(train[['category','suitable_for']]).toarray()\n",
        "\n",
        "\n",
        "# converting arrays to a dataframe\n",
        "encoded_colm = pd.DataFrame(enc)\n",
        "\n",
        "\n",
        "# concating dataframes \n",
        "train = pd.concat([train, encoded_colm], axis = 1) \n",
        "\n",
        "\n",
        "# removing the encoded column.\n",
        "\n",
        "df=train.copy()\n",
        "df.drop(['last_update','app_id'],inplace=True,axis=1)\n",
        "df.drop(['category'],inplace=True,axis=1)\n",
        "df.drop(['suitable_for'],inplace=True,axis=1)\n",
        "\n",
        "X = df.copy()\n",
        "\n",
        "X.drop(['popularity'],inplace=True,axis=1)"
      ],
      "execution_count": null,
      "outputs": []
    },
    {
      "cell_type": "code",
      "metadata": {
        "id": "rIGBcZRyisZ8"
      },
      "source": [
        "test_data.drop(['latest_ver'],inplace=True,axis=1)\n",
        "\n",
        "import re\n",
        "def to_num(a):\n",
        "    num= re.findall('[0-9]+',a)\n",
        "    b=\"\".join(num)\n",
        "    return int(b)\n",
        "def to_bin(a):\n",
        "    if a==0:\n",
        "        return 0\n",
        "    return 1\n",
        "def to_kb(a):\n",
        "    elem=a[-1]\n",
        "    if elem=='M':\n",
        "        b=to_num(a[:-1])\n",
        "        return (b*1024)\n",
        "    return (to_num(a[:-1]))\n",
        "def target(a):\n",
        "    if a=='High':\n",
        "        return 1\n",
        "    return 0\n",
        "\n",
        "test_data['installs']=test_data['installs'].apply(to_num)\n",
        "test_data['price']=test_data['price'].apply(to_num)\n",
        "test_data['price']=test_data['price'].apply(to_bin)\n",
        "test_data['size']=test_data['size'].apply(to_kb)\n",
        "test_data['popularity']=test_data['popularity'].apply(target)\n",
        "\n",
        "from sklearn.preprocessing import OneHotEncoder\n",
        "enc = OneHotEncoder()\n",
        "\n",
        "# tranforming the column after fitting\n",
        "enc = enc.fit_transform(test_data[['category','suitable_for']]).toarray()\n",
        "\n",
        "# converting arrays to a dataframe\n",
        "encoded_colm = pd.DataFrame(enc)\n",
        "\n",
        "# concating dataframes \n",
        "test_data = pd.concat([test_data, encoded_colm], axis = 1) \n",
        "\n",
        "# removing the encoded column.\n",
        "\n",
        "df=test_data.copy()\n",
        "df.drop(['last_update','app_id'],inplace=True,axis=1)\n",
        "df.drop(['category'],inplace=True,axis=1)\n",
        "df.drop(['suitable_for'],inplace=True,axis=1)\n",
        "\n",
        "X = df.copy()\n",
        "\n",
        "X.drop(['popularity'],inplace=True,axis=1)\n",
        "\n"
      ],
      "execution_count": null,
      "outputs": []
    }
  ]
}